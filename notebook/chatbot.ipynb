{
 "cells": [
  {
   "cell_type": "code",
   "execution_count": 1,
   "metadata": {},
   "outputs": [
    {
     "name": "stdout",
     "output_type": "stream",
     "text": [
      "jmd shree ganesha\n"
     ]
    }
   ],
   "source": [
    "print('jmd shree ganesha')"
   ]
  },
  {
   "cell_type": "code",
   "execution_count": 2,
   "metadata": {},
   "outputs": [],
   "source": [
    "from langchain.prompts import PromptTemplate\n",
    "from langchain.chains.retrieval_qa.base import RetrievalQA\n",
    "from langchain.vectorstores import chroma\n",
    "from langchain_community.embeddings import HuggingFaceEmbeddings\n",
    "from langchain_community.document_loaders import PyPDFLoader, DirectoryLoader\n",
    "from langchain.text_splitter import RecursiveCharacterTextSplitter\n",
    "from langchain.llms import ctransformers\n",
    "import os"
   ]
  },
  {
   "cell_type": "code",
   "execution_count": 3,
   "metadata": {},
   "outputs": [],
   "source": [
    "dataset = r\"C:\\Users\\Admin\\Desktop\\Aster\\Chatbot - DRS\\data\""
   ]
  },
  {
   "cell_type": "code",
   "execution_count": 4,
   "metadata": {},
   "outputs": [],
   "source": [
    "#Extract data from the PDF\n",
    "def load_pdf(data):\n",
    "    loader = DirectoryLoader(data,\n",
    "                    glob=\"*.pdf\",\n",
    "                    loader_cls=PyPDFLoader)\n",
    "    \n",
    "    documents = loader.load()\n",
    "\n",
    "    return documents"
   ]
  },
  {
   "cell_type": "code",
   "execution_count": 5,
   "metadata": {},
   "outputs": [],
   "source": [
    "extracted_data = load_pdf(dataset)"
   ]
  },
  {
   "cell_type": "code",
   "execution_count": 6,
   "metadata": {},
   "outputs": [],
   "source": [
    "def text_splitter(data_pdf):\n",
    "    splitter = RecursiveCharacterTextSplitter(chunk_size=150, chunk_overlap=10)\n",
    "    chunks = splitter.split_documents(data_pdf)\n",
    "    \n",
    "    return chunks"
   ]
  },
  {
   "cell_type": "code",
   "execution_count": 7,
   "metadata": {},
   "outputs": [],
   "source": [
    "text_chunks = text_splitter(extracted_data)"
   ]
  },
  {
   "cell_type": "code",
   "execution_count": 8,
   "metadata": {},
   "outputs": [
    {
     "data": {
      "text/plain": [
       "[Document(page_content='Digital Rhombus Studios is a premier experience design house specializing in Virtual Reality (VR), Mixed \\nReality (MR), and Augmented Reality (AR).', metadata={'source': 'C:\\\\Users\\\\Admin\\\\Desktop\\\\Aster\\\\Chatbot - DRS\\\\data\\\\test data.pdf', 'page': 0}),\n",
       " Document(page_content='With a team of industry professionals boasting over two decades of experience, Digital Rhombus crafts', metadata={'source': 'C:\\\\Users\\\\Admin\\\\Desktop\\\\Aster\\\\Chatbot - DRS\\\\data\\\\test data.pdf', 'page': 0}),\n",
       " Document(page_content='high-value, realistic VR experiences designed to deliver a \"WOW\" factor and significant business ROI.', metadata={'source': 'C:\\\\Users\\\\Admin\\\\Desktop\\\\Aster\\\\Chatbot - DRS\\\\data\\\\test data.pdf', 'page': 0}),\n",
       " Document(page_content='Our diverse portfolio includes projects for domestic and international clientele, many of which are under \\nstrict NDAs.', metadata={'source': 'C:\\\\Users\\\\Admin\\\\Desktop\\\\Aster\\\\Chatbot - DRS\\\\data\\\\test data.pdf', 'page': 0}),\n",
       " Document(page_content='Notable achievements in the past year include internal employee training programs, 360º VR videos, and \\nlarge-scale marketing solutions.', metadata={'source': 'C:\\\\Users\\\\Admin\\\\Desktop\\\\Aster\\\\Chatbot - DRS\\\\data\\\\test data.pdf', 'page': 0}),\n",
       " Document(page_content='We leverage cutting-edge technology like the HoloLens, Oculus, and HTC Vive to create immersive', metadata={'source': 'C:\\\\Users\\\\Admin\\\\Desktop\\\\Aster\\\\Chatbot - DRS\\\\data\\\\test data.pdf', 'page': 0}),\n",
       " Document(page_content='environments for various industries, including education, healthcare, aviation, and entertainment.  \\n  \\nWhat We Do:', metadata={'source': 'C:\\\\Users\\\\Admin\\\\Desktop\\\\Aster\\\\Chatbot - DRS\\\\data\\\\test data.pdf', 'page': 0}),\n",
       " Document(page_content='Virtual Reality (VR): VR creates entirely computer-generated environments that simulate real-world or', metadata={'source': 'C:\\\\Users\\\\Admin\\\\Desktop\\\\Aster\\\\Chatbot - DRS\\\\data\\\\test data.pdf', 'page': 0}),\n",
       " Document(page_content='imagined settings, allowing users to feel as though they are physically present within these digital \\nspaces.', metadata={'source': 'C:\\\\Users\\\\Admin\\\\Desktop\\\\Aster\\\\Chatbot - DRS\\\\data\\\\test data.pdf', 'page': 0}),\n",
       " Document(page_content='spaces.  \\nThis is achieved through head-mounted displays (HMDs) and other sensory equipment.', metadata={'source': 'C:\\\\Users\\\\Admin\\\\Desktop\\\\Aster\\\\Chatbot - DRS\\\\data\\\\test data.pdf', 'page': 0}),\n",
       " Document(page_content='In order to provide the user with an immersive sense of a virtual world, virtual reality (VR) uses 3D \\nnear-eye displays and position tracking.', metadata={'source': 'C:\\\\Users\\\\Admin\\\\Desktop\\\\Aster\\\\Chatbot - DRS\\\\data\\\\test data.pdf', 'page': 0}),\n",
       " Document(page_content='Virtual reality has several applications in the fields of education, business, and entertainment.', metadata={'source': 'C:\\\\Users\\\\Admin\\\\Desktop\\\\Aster\\\\Chatbot - DRS\\\\data\\\\test data.pdf', 'page': 0}),\n",
       " Document(page_content='Video games are one example of this, as are virtual meetings for safety, medical, and military training.', metadata={'source': 'C:\\\\Users\\\\Admin\\\\Desktop\\\\Aster\\\\Chatbot - DRS\\\\data\\\\test data.pdf', 'page': 0}),\n",
       " Document(page_content='VR is a key technological advancement in the realm of reality-virtuality. As a result, it differs from other', metadata={'source': 'C:\\\\Users\\\\Admin\\\\Desktop\\\\Aster\\\\Chatbot - DRS\\\\data\\\\test data.pdf', 'page': 0}),\n",
       " Document(page_content='approaches to digital visualisation, like augmented reality and virtuality.', metadata={'source': 'C:\\\\Users\\\\Admin\\\\Desktop\\\\Aster\\\\Chatbot - DRS\\\\data\\\\test data.pdf', 'page': 0}),\n",
       " Document(page_content=\"Augmented Reality (AR): AR overlays digital information onto the real world, enhancing the user's \\nperception of their environment.\", metadata={'source': 'C:\\\\Users\\\\Admin\\\\Desktop\\\\Aster\\\\Chatbot - DRS\\\\data\\\\test data.pdf', 'page': 0}),\n",
       " Document(page_content='This technology is often used through smartphones and tablets to provide interactive experiences, such \\nas gaming or educational tools.', metadata={'source': 'C:\\\\Users\\\\Admin\\\\Desktop\\\\Aster\\\\Chatbot - DRS\\\\data\\\\test data.pdf', 'page': 0}),\n",
       " Document(page_content='Combining computer-generated 3D content with the actual world creates an interactive experience known\\nas augmented reality (AR).', metadata={'source': 'C:\\\\Users\\\\Admin\\\\Desktop\\\\Aster\\\\Chatbot - DRS\\\\data\\\\test data.pdf', 'page': 0}),\n",
       " Document(page_content='More than one sense can be involved in the material, such as auditory, haptic, somatosensory, olfactory, \\nand visual.', metadata={'source': 'C:\\\\Users\\\\Admin\\\\Desktop\\\\Aster\\\\Chatbot - DRS\\\\data\\\\test data.pdf', 'page': 0}),\n",
       " Document(page_content='A system that combines real and virtual worlds, allows for real-time interaction, and precisely registers', metadata={'source': 'C:\\\\Users\\\\Admin\\\\Desktop\\\\Aster\\\\Chatbot - DRS\\\\data\\\\test data.pdf', 'page': 0}),\n",
       " Document(page_content='virtual and real things in three dimensions is called augmented reality (AR).', metadata={'source': 'C:\\\\Users\\\\Admin\\\\Desktop\\\\Aster\\\\Chatbot - DRS\\\\data\\\\test data.pdf', 'page': 0}),\n",
       " Document(page_content='Both positive and negative effects might result from the superimposed sensory data, such as the natural \\nworld being hidden or enhanced.', metadata={'source': 'C:\\\\Users\\\\Admin\\\\Desktop\\\\Aster\\\\Chatbot - DRS\\\\data\\\\test data.pdf', 'page': 0}),\n",
       " Document(page_content='On the reality-virtuality continuum, it is therefore one of many important technologies.', metadata={'source': 'C:\\\\Users\\\\Admin\\\\Desktop\\\\Aster\\\\Chatbot - DRS\\\\data\\\\test data.pdf', 'page': 0}),\n",
       " Document(page_content='Mixed Reality (MR): MR merges the real and virtual worlds to produce new environments where physical', metadata={'source': 'C:\\\\Users\\\\Admin\\\\Desktop\\\\Aster\\\\Chatbot - DRS\\\\data\\\\test data.pdf', 'page': 0}),\n",
       " Document(page_content='and digital objects coexist and interact in real-time.', metadata={'source': 'C:\\\\Users\\\\Admin\\\\Desktop\\\\Aster\\\\Chatbot - DRS\\\\data\\\\test data.pdf', 'page': 0}),\n",
       " Document(page_content='Devices like the Microsoft HoloLens facilitate these immersive experiences, enabling users to interact with', metadata={'source': 'C:\\\\Users\\\\Admin\\\\Desktop\\\\Aster\\\\Chatbot - DRS\\\\data\\\\test data.pdf', 'page': 0}),\n",
       " Document(page_content='both physical and digital elements seamlessly.', metadata={'source': 'C:\\\\Users\\\\Admin\\\\Desktop\\\\Aster\\\\Chatbot - DRS\\\\data\\\\test data.pdf', 'page': 0}),\n",
       " Document(page_content='The combination of a computer-generated environment and the real world is referred to as mixed reality \\n(MR).', metadata={'source': 'C:\\\\Users\\\\Admin\\\\Desktop\\\\Aster\\\\Chatbot - DRS\\\\data\\\\test data.pdf', 'page': 0}),\n",
       " Document(page_content='(MR).  \\nIn mixed reality environments, real-time interactions between virtual and physical things are possible.', metadata={'source': 'C:\\\\Users\\\\Admin\\\\Desktop\\\\Aster\\\\Chatbot - DRS\\\\data\\\\test data.pdf', 'page': 0}),\n",
       " Document(page_content='A term used to describe mixed reality that uses haptics is visuo-haptic mixed reality.', metadata={'source': 'C:\\\\Users\\\\Admin\\\\Desktop\\\\Aster\\\\Chatbot - DRS\\\\data\\\\test data.pdf', 'page': 0}),\n",
       " Document(page_content='A virtual reality system combined with its physical equivalent is referred to as a \"interreality system\" in the \\nfield of physics.', metadata={'source': 'C:\\\\Users\\\\Admin\\\\Desktop\\\\Aster\\\\Chatbot - DRS\\\\data\\\\test data.pdf', 'page': 0}),\n",
       " Document(page_content='A virtual reality-only pendulum attached to a genuine physical pendulum is the subject of a 2007 study \\nthat describes an interreality system.', metadata={'source': 'C:\\\\Users\\\\Admin\\\\Desktop\\\\Aster\\\\Chatbot - DRS\\\\data\\\\test data.pdf', 'page': 0}),\n",
       " Document(page_content='There are two stable motion states in this system: a \"mixed reality\" state where the two pendula exhibit', metadata={'source': 'C:\\\\Users\\\\Admin\\\\Desktop\\\\Aster\\\\Chatbot - DRS\\\\data\\\\test data.pdf', 'page': 0}),\n",
       " Document(page_content='stable phase-locked motion that is highly correlated, and a \"dual reality\" state where the motion of the two\\npendula is uncorrelated.', metadata={'source': 'C:\\\\Users\\\\Admin\\\\Desktop\\\\Aster\\\\Chatbot - DRS\\\\data\\\\test data.pdf', 'page': 1}),\n",
       " Document(page_content='Although the definitions of \"mixed reality\" and \"interreality\" vary slightly depending on the area, in general,', metadata={'source': 'C:\\\\Users\\\\Admin\\\\Desktop\\\\Aster\\\\Chatbot - DRS\\\\data\\\\test data.pdf', 'page': 1}),\n",
       " Document(page_content='they are understood to mean \"bridging the physical and virtual world\" in the context of physics.', metadata={'source': 'C:\\\\Users\\\\Admin\\\\Desktop\\\\Aster\\\\Chatbot - DRS\\\\data\\\\test data.pdf', 'page': 1}),\n",
       " Document(page_content='3D Modeling: At the core of our VR and MR experiences is precise 3D modeling, which involves creating', metadata={'source': 'C:\\\\Users\\\\Admin\\\\Desktop\\\\Aster\\\\Chatbot - DRS\\\\data\\\\test data.pdf', 'page': 1}),\n",
       " Document(page_content='detailed three-dimensional digital representations of objects or environments.', metadata={'source': 'C:\\\\Users\\\\Admin\\\\Desktop\\\\Aster\\\\Chatbot - DRS\\\\data\\\\test data.pdf', 'page': 1}),\n",
       " Document(page_content='This is essential for developing realistic and interactive simulations.', metadata={'source': 'C:\\\\Users\\\\Admin\\\\Desktop\\\\Aster\\\\Chatbot - DRS\\\\data\\\\test data.pdf', 'page': 1}),\n",
       " Document(page_content='The practice of creating a mathematically coordinate-based representation of a surface of an object in', metadata={'source': 'C:\\\\Users\\\\Admin\\\\Desktop\\\\Aster\\\\Chatbot - DRS\\\\data\\\\test data.pdf', 'page': 1}),\n",
       " Document(page_content='three dimensionsÐwhether inanimate or livingÐby manipulating edges, vertices, and polygons in a', metadata={'source': 'C:\\\\Users\\\\Admin\\\\Desktop\\\\Aster\\\\Chatbot - DRS\\\\data\\\\test data.pdf', 'page': 1}),\n",
       " Document(page_content='simulated three-dimensional environment using specialised software is known as 3D modelling in 3D \\ncomputer graphics.', metadata={'source': 'C:\\\\Users\\\\Admin\\\\Desktop\\\\Aster\\\\Chatbot - DRS\\\\data\\\\test data.pdf', 'page': 1}),\n",
       " Document(page_content='A set of points connected by different geometric shapes, such as triangles, lines, curved surfaces, etc., in', metadata={'source': 'C:\\\\Users\\\\Admin\\\\Desktop\\\\Aster\\\\Chatbot - DRS\\\\data\\\\test data.pdf', 'page': 1}),\n",
       " Document(page_content='three dimensions (3D) are used to depict a physical body in a 3D model.', metadata={'source': 'C:\\\\Users\\\\Admin\\\\Desktop\\\\Aster\\\\Chatbot - DRS\\\\data\\\\test data.pdf', 'page': 1}),\n",
       " Document(page_content='As a set of data (points and other information), 3D models can be made via scanning, procedural \\nmodelling, or manually using algorithms.', metadata={'source': 'C:\\\\Users\\\\Admin\\\\Desktop\\\\Aster\\\\Chatbot - DRS\\\\data\\\\test data.pdf', 'page': 1}),\n",
       " Document(page_content='Texture mapping can help further characterise their surfaces.', metadata={'source': 'C:\\\\Users\\\\Admin\\\\Desktop\\\\Aster\\\\Chatbot - DRS\\\\data\\\\test data.pdf', 'page': 1}),\n",
       " Document(page_content='Photorealistic Rendering: This technique enhances the visual quality of 3D models by adding realistic', metadata={'source': 'C:\\\\Users\\\\Admin\\\\Desktop\\\\Aster\\\\Chatbot - DRS\\\\data\\\\test data.pdf', 'page': 1}),\n",
       " Document(page_content='lighting, textures, and shadows, making digital objects appear lifelike.', metadata={'source': 'C:\\\\Users\\\\Admin\\\\Desktop\\\\Aster\\\\Chatbot - DRS\\\\data\\\\test data.pdf', 'page': 1}),\n",
       " Document(page_content='This is crucial for applications in architecture, product design, and any scenario where visual accuracy is \\nparamount.', metadata={'source': 'C:\\\\Users\\\\Admin\\\\Desktop\\\\Aster\\\\Chatbot - DRS\\\\data\\\\test data.pdf', 'page': 1}),\n",
       " Document(page_content='With the help of 3D rendering technologies and realistically based virtual lights, cameras, and materials,', metadata={'source': 'C:\\\\Users\\\\Admin\\\\Desktop\\\\Aster\\\\Chatbot - DRS\\\\data\\\\test data.pdf', 'page': 1}),\n",
       " Document(page_content='photorealistic rendering creates lifelike visuals and animations that let you present your work as though it \\nwere real.', metadata={'source': 'C:\\\\Users\\\\Admin\\\\Desktop\\\\Aster\\\\Chatbot - DRS\\\\data\\\\test data.pdf', 'page': 1}),\n",
       " Document(page_content='At Digital Rhombus, we handle the complete production cycle from concept to delivery.', metadata={'source': 'C:\\\\Users\\\\Admin\\\\Desktop\\\\Aster\\\\Chatbot - DRS\\\\data\\\\test data.pdf', 'page': 1}),\n",
       " Document(page_content='Our services encompass 3D modeling, photorealistic rendering, high-quality 3D printing, and \\npost-production.', metadata={'source': 'C:\\\\Users\\\\Admin\\\\Desktop\\\\Aster\\\\Chatbot - DRS\\\\data\\\\test data.pdf', 'page': 1}),\n",
       " Document(page_content=\"Our team excels in creating interactive and immersive experiences, whether it's for virtual tours,\", metadata={'source': 'C:\\\\Users\\\\Admin\\\\Desktop\\\\Aster\\\\Chatbot - DRS\\\\data\\\\test data.pdf', 'page': 1}),\n",
       " Document(page_content='architectural visualization, or detailed 3D layouts.', metadata={'source': 'C:\\\\Users\\\\Admin\\\\Desktop\\\\Aster\\\\Chatbot - DRS\\\\data\\\\test data.pdf', 'page': 1}),\n",
       " Document(page_content='We are also pioneers in using VR for educational purposes and medical training, helping to visualize', metadata={'source': 'C:\\\\Users\\\\Admin\\\\Desktop\\\\Aster\\\\Chatbot - DRS\\\\data\\\\test data.pdf', 'page': 1}),\n",
       " Document(page_content='complex concepts and simulate real-world scenarios.', metadata={'source': 'C:\\\\Users\\\\Admin\\\\Desktop\\\\Aster\\\\Chatbot - DRS\\\\data\\\\test data.pdf', 'page': 1}),\n",
       " Document(page_content='Our VR solutions are deployed for marketing, reducing costs, and enhancing customer engagement.', metadata={'source': 'C:\\\\Users\\\\Admin\\\\Desktop\\\\Aster\\\\Chatbot - DRS\\\\data\\\\test data.pdf', 'page': 1}),\n",
       " Document(page_content='Digital Rhombus continually pushes the boundaries of VR technology, ensuring our clients benefit from \\nthe latest innovations.', metadata={'source': 'C:\\\\Users\\\\Admin\\\\Desktop\\\\Aster\\\\Chatbot - DRS\\\\data\\\\test data.pdf', 'page': 1}),\n",
       " Document(page_content='Our dedication to quality and creativity makes us a trusted partner for businesses looking to leverage VR,', metadata={'source': 'C:\\\\Users\\\\Admin\\\\Desktop\\\\Aster\\\\Chatbot - DRS\\\\data\\\\test data.pdf', 'page': 1}),\n",
       " Document(page_content='MR, and AR technologies for transformative solutions.  \\nContact us today to explore how we can bring your vision to life.  \\n  \\nContact Us:', metadata={'source': 'C:\\\\Users\\\\Admin\\\\Desktop\\\\Aster\\\\Chatbot - DRS\\\\data\\\\test data.pdf', 'page': 1}),\n",
       " Document(page_content='Contact Email: info@digitalrhombusstudios.com  \\nContact Phone: +91-22-40009200', metadata={'source': 'C:\\\\Users\\\\Admin\\\\Desktop\\\\Aster\\\\Chatbot - DRS\\\\data\\\\test data.pdf', 'page': 1}),\n",
       " Document(page_content='Contact Address: F2, 4th Floor, Pinnacle Business Park, Mahakali Caves Rd, Andheri (East), Mumbai, \\nINDIA - 400 092', metadata={'source': 'C:\\\\Users\\\\Admin\\\\Desktop\\\\Aster\\\\Chatbot - DRS\\\\data\\\\test data.pdf', 'page': 1}),\n",
       " Document(page_content='Visit our website or send us a message to arrange a free consultation. We look forward to collaborating \\nwith you!', metadata={'source': 'C:\\\\Users\\\\Admin\\\\Desktop\\\\Aster\\\\Chatbot - DRS\\\\data\\\\test data.pdf', 'page': 1})]"
      ]
     },
     "execution_count": 8,
     "metadata": {},
     "output_type": "execute_result"
    }
   ],
   "source": [
    "text_chunks"
   ]
  },
  {
   "cell_type": "code",
   "execution_count": 9,
   "metadata": {},
   "outputs": [
    {
     "name": "stdout",
     "output_type": "stream",
     "text": [
      "64\n"
     ]
    }
   ],
   "source": [
    "print(len(text_chunks))"
   ]
  },
  {
   "cell_type": "code",
   "execution_count": 10,
   "metadata": {},
   "outputs": [],
   "source": [
    "def text_to_embeddings():\n",
    "    embeddings = HuggingFaceEmbeddings(model_name=\"sentence-transformers/all-MiniLM-L6-v2\")\n",
    "    return embeddings"
   ]
  },
  {
   "cell_type": "code",
   "execution_count": 11,
   "metadata": {},
   "outputs": [
    {
     "name": "stderr",
     "output_type": "stream",
     "text": [
      "c:\\Users\\Admin\\Desktop\\Aster\\Chatbot - DRS\\drs\\lib\\site-packages\\tqdm\\auto.py:21: TqdmWarning: IProgress not found. Please update jupyter and ipywidgets. See https://ipywidgets.readthedocs.io/en/stable/user_install.html\n",
      "  from .autonotebook import tqdm as notebook_tqdm\n",
      "c:\\Users\\Admin\\Desktop\\Aster\\Chatbot - DRS\\drs\\lib\\site-packages\\huggingface_hub\\file_download.py:1132: FutureWarning: `resume_download` is deprecated and will be removed in version 1.0.0. Downloads always resume when possible. If you want to force a new download, use `force_download=True`.\n",
      "  warnings.warn(\n"
     ]
    }
   ],
   "source": [
    "embeddings = text_to_embeddings()"
   ]
  },
  {
   "cell_type": "code",
   "execution_count": 12,
   "metadata": {},
   "outputs": [
    {
     "data": {
      "text/plain": [
       "HuggingFaceEmbeddings(client=SentenceTransformer(\n",
       "  (0): Transformer({'max_seq_length': 256, 'do_lower_case': False}) with Transformer model: BertModel \n",
       "  (1): Pooling({'word_embedding_dimension': 384, 'pooling_mode_cls_token': False, 'pooling_mode_mean_tokens': True, 'pooling_mode_max_tokens': False, 'pooling_mode_mean_sqrt_len_tokens': False, 'pooling_mode_weightedmean_tokens': False, 'pooling_mode_lasttoken': False, 'include_prompt': True})\n",
       "  (2): Normalize()\n",
       "), model_name='sentence-transformers/all-MiniLM-L6-v2', cache_folder=None, model_kwargs={}, encode_kwargs={}, multi_process=False, show_progress=False)"
      ]
     },
     "execution_count": 12,
     "metadata": {},
     "output_type": "execute_result"
    }
   ],
   "source": [
    "embeddings"
   ]
  },
  {
   "cell_type": "code",
   "execution_count": 13,
   "metadata": {},
   "outputs": [],
   "source": [
    "persist_directory = 'drs_db'\n",
    "\n",
    "vectordb = chroma.Chroma.from_documents(documents=text_chunks, embedding=embeddings, persist_directory=persist_directory)"
   ]
  },
  {
   "cell_type": "code",
   "execution_count": 14,
   "metadata": {},
   "outputs": [],
   "source": [
    "vectordb.persist()\n",
    "vectordb = None"
   ]
  },
  {
   "cell_type": "code",
   "execution_count": 15,
   "metadata": {},
   "outputs": [],
   "source": [
    "vectordb = chroma.Chroma(persist_directory=persist_directory, embedding_function=embeddings)"
   ]
  },
  {
   "cell_type": "code",
   "execution_count": 16,
   "metadata": {},
   "outputs": [],
   "source": [
    "retriever = vectordb.as_retriever()"
   ]
  },
  {
   "cell_type": "code",
   "execution_count": 17,
   "metadata": {},
   "outputs": [
    {
     "name": "stderr",
     "output_type": "stream",
     "text": [
      "c:\\Users\\Admin\\Desktop\\Aster\\Chatbot - DRS\\drs\\lib\\site-packages\\langchain_core\\_api\\deprecation.py:119: LangChainDeprecationWarning: The method `BaseRetriever.get_relevant_documents` was deprecated in langchain-core 0.1.46 and will be removed in 0.3.0. Use invoke instead.\n",
      "  warn_deprecated(\n"
     ]
    }
   ],
   "source": [
    "docsearch = retriever.get_relevant_documents('What is Digital Rhombus Solutions?')"
   ]
  },
  {
   "cell_type": "code",
   "execution_count": 18,
   "metadata": {},
   "outputs": [
    {
     "name": "stdout",
     "output_type": "stream",
     "text": [
      "[Document(page_content='Digital Rhombus continually pushes the boundaries of VR technology, ensuring our clients benefit from \\nthe latest innovations.', metadata={'page': 1, 'source': 'C:\\\\Users\\\\Admin\\\\Desktop\\\\Aster\\\\Chatbot - DRS\\\\data\\\\test data.pdf'}), Document(page_content='Digital Rhombus continually pushes the boundaries of VR technology, ensuring our clients benefit from \\nthe latest innovations.', metadata={'page': 1, 'source': 'C:\\\\Users\\\\Admin\\\\Desktop\\\\Aster\\\\Chatbot - DRS\\\\data\\\\test data.pdf'}), Document(page_content='Digital Rhombus continually pushes the boundaries of VR technology, ensuring our clients benefit from \\nthe latest innovations.', metadata={'page': 1, 'source': 'C:\\\\Users\\\\Admin\\\\Desktop\\\\Aster\\\\Chatbot - DRS\\\\data\\\\test data.pdf'}), Document(page_content='Digital Rhombus Studios is a premier experience design house specializing in Virtual Reality (VR), Mixed \\nReality (MR), and Augmented Reality (AR).', metadata={'page': 0, 'source': 'C:\\\\Users\\\\Admin\\\\Desktop\\\\Aster\\\\Chatbot - DRS\\\\data\\\\test data.pdf'})]\n"
     ]
    }
   ],
   "source": [
    "len(docsearch)\n",
    "print(docsearch)"
   ]
  },
  {
   "cell_type": "code",
   "execution_count": 19,
   "metadata": {},
   "outputs": [],
   "source": [
    "retriever = vectordb.as_retriever(search_kwargs={'k':4})"
   ]
  },
  {
   "cell_type": "code",
   "execution_count": 20,
   "metadata": {},
   "outputs": [
    {
     "data": {
      "text/plain": [
       "'similarity'"
      ]
     },
     "execution_count": 20,
     "metadata": {},
     "output_type": "execute_result"
    }
   ],
   "source": [
    "retriever.search_type"
   ]
  },
  {
   "cell_type": "code",
   "execution_count": 21,
   "metadata": {},
   "outputs": [
    {
     "data": {
      "text/plain": [
       "{'k': 4}"
      ]
     },
     "execution_count": 21,
     "metadata": {},
     "output_type": "execute_result"
    }
   ],
   "source": [
    "retriever.search_kwargs"
   ]
  },
  {
   "cell_type": "code",
   "execution_count": 22,
   "metadata": {},
   "outputs": [],
   "source": [
    "prompt_template=\"\"\"\n",
    "Use the following pieces of information to answer the user's question. You are a helpful assistant who answers questions related to Digital Rhombus Studios.\n",
    "If the question is not related to Digital Rhombus Studios, respond with \"I don't know, it's out of my knowledge base.\"\n",
    "If you don't know the answer, just say to visit their contact us page. Do not ask for the phone number.\n",
    "\n",
    "Context: {context}\n",
    "\n",
    "Question: {question}\n",
    "\n",
    "Only return the helpful answer below and nothing else.\n",
    "Helpful answer:\n",
    "\"\"\""
   ]
  },
  {
   "cell_type": "code",
   "execution_count": 23,
   "metadata": {},
   "outputs": [],
   "source": [
    "PROMPT=PromptTemplate(template=prompt_template, input_variables=[\"context\", \"question\"])\n",
    "chain_type_kwargs={\"prompt\": PROMPT}"
   ]
  },
  {
   "cell_type": "code",
   "execution_count": 24,
   "metadata": {},
   "outputs": [],
   "source": [
    "llm=ctransformers.CTransformers(model=r\"C:\\Users\\Admin\\Desktop\\Aster\\FAQ Chatbot\\FAQ-Chatbot\\model\\llama-2-7b-chat.ggmlv3.q4_0.bin\",\n",
    "                  model_type=\"llama\",\n",
    "                  config={'max_new_tokens':2048,\n",
    "                          'temperature':0.5,'context_length':4096})"
   ]
  },
  {
   "cell_type": "code",
   "execution_count": 25,
   "metadata": {},
   "outputs": [],
   "source": [
    "qa=RetrievalQA.from_chain_type(\n",
    "    llm=llm, \n",
    "    chain_type=\"stuff\", \n",
    "    retriever=vectordb.as_retriever(search_kwargs={'k': 5}),\n",
    "    return_source_documents=True, \n",
    "    chain_type_kwargs=chain_type_kwargs)"
   ]
  },
  {
   "cell_type": "code",
   "execution_count": 26,
   "metadata": {},
   "outputs": [
    {
     "name": "stderr",
     "output_type": "stream",
     "text": [
      "c:\\Users\\Admin\\Desktop\\Aster\\Chatbot - DRS\\drs\\lib\\site-packages\\langchain_core\\_api\\deprecation.py:119: LangChainDeprecationWarning: The method `Chain.__call__` was deprecated in langchain 0.1.0 and will be removed in 0.2.0. Use invoke instead.\n",
      "  warn_deprecated(\n"
     ]
    },
    {
     "name": "stdout",
     "output_type": "stream",
     "text": [
      "Response :  Digital Rhombus Studios is a premier experience design house specializing in Virtual Reality (VR), Mixed \n",
      "Reality (MR), and Augmented Reality (AR).\n",
      "Response :  They create immersive environments for various industries, including education, healthcare, aviation, and entertainment.\n",
      "Response :  Digital Rhombus Studios uses a variety of technologies to create immersive environments for various industries, including education, healthcare, aviation, and entertainment. Some of the technologies they use include virtual reality (VR), augmented reality (AR), and mixed reality (MR).\n",
      "Response :  VR stands for Virtual Reality, which refers to a computer-generated simulation of an environment that can be experienced and interacted with in a seemingly real or physical way. It is created by using a combination of hardware and software to generate a three-dimensional environment that can be perceived and manipulated in a way similar to the real world. VR technology has many applications, including gaming, entertainment, education, and medical training.\n",
      "Response :  I don't know, it's out of my knowledge base. Visit their contact us page for more information.\n",
      "Response :  Digital Rhombus ensures the quality of its VR content by following a rigorous process that includes \n",
      "concept development, design, prototyping, testing, and refinement. Our team of experienced \n",
      "designers and developers work closely with clients to understand their requirements and create \n",
      "immersive experiences that meet their needs. We also invest heavily in research and development \n",
      "to stay at the forefront of VR technology and ensure our content is cutting-edge and engaging.\n"
     ]
    }
   ],
   "source": [
    "while True:\n",
    "    user_input=input(f\"Input Prompt:\")\n",
    "    result=qa({\"query\": user_input})\n",
    "    print(\"Response : \", result[\"result\"])"
   ]
  }
 ],
 "metadata": {
  "kernelspec": {
   "display_name": "drs",
   "language": "python",
   "name": "python3"
  },
  "language_info": {
   "codemirror_mode": {
    "name": "ipython",
    "version": 3
   },
   "file_extension": ".py",
   "mimetype": "text/x-python",
   "name": "python",
   "nbconvert_exporter": "python",
   "pygments_lexer": "ipython3",
   "version": "3.10.10"
  }
 },
 "nbformat": 4,
 "nbformat_minor": 2
}
